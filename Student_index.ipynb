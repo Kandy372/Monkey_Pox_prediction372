{
 "cells": [
  {
   "cell_type": "markdown",
   "id": "038d31e9",
   "metadata": {},
   "source": [
    "## Final Project Submission\n",
    "\n",
    "Please fill out:\n",
    "* Student name: Kandie Phelma \n",
    "* Student pace: full time\n",
    "* Scheduled project review date/time: \n",
    "* Instructor name: \n",
    "* Blog post URL:"
   ]
  },
  {
   "cell_type": "markdown",
   "id": "774863d3",
   "metadata": {},
   "source": [
    "# PROJECT:  [Monkey Pox Prediction]\n",
    "\n",
    "## Table of Contents\n",
    "<ul>\n",
    "<li><a href=\"#intro\">Introduction</a></li>\n",
    "<li><a href=\"#Data Understanding\">Data Understanding</a></li>\n",
    "<li><a href=\"#Data Preparation/cleaning\">Data Preparation/cleaning</a></li>\n",
    "<li><a href=\"#mod\">Modelling</a></li>\n",
    "<li><a href=\"#mod\">Model results</a></li>   \n",
    "<li><a href=\"#conclusions\">Conclusions</a></li>"
   ]
  },
  {
   "cell_type": "markdown",
   "id": "0cb76a95",
   "metadata": {},
   "source": [
    "# BUSINESS UNDERSTANDING:\n",
    "\n",
    "## Understanding the problem\n"
   ]
  },
  {
   "cell_type": "markdown",
   "id": "bd43f80c",
   "metadata": {},
   "source": [
    "## Problem statement\n",
    "<p><p> As more cases of monkeypox emerge, the world becomes increasingly concerned, as they do not want a repeat of what happened not too long ago, when the infamous Covid-19 broke out and altered the world as we know it. Faced with the reality that such viral diseases can actually shut down the planet, the organisation must develop ways to reduce the spread of this disease, regardless of how quickly the virus can be transferred and, worse, mutate into a more lethal variant. \n",
    ".</p></p>\n",
    "\n",
    " <b>Objectives</b>\n",
    "* To analyse the various variables such as Sore Throat,Penile Oedema, Oral Lesions ,Systemic illness and STIs and know their relationship with monkeypox, and use that to predict if a patient has monkeypox\n",
    "\n",
    "* Give advice to the health organisations on  how best to help the public in detecting and preventing monkeypox transmission\n",
    "\n",
    "* Identify the symptoms to look for in order to determine if you have the condition. \n",
    "* To know which symptoms are most associated with monkeypox\n",
    "* To use different models to predict monkeypox"
   ]
  },
  {
   "cell_type": "markdown",
   "id": "a8e7b7c5",
   "metadata": {},
   "source": [
    "<a id='wrangling'></a>\n",
    "# DATA UNDERSTANDING:\n",
    "Here will check our variables and try as much as possible to understand it and how it will relate to our questions"
   ]
  },
  {
   "cell_type": "code",
   "execution_count": 1,
   "id": "9934013b",
   "metadata": {},
   "outputs": [],
   "source": [
    "import pandas as pd\n",
    "import numpy as np"
   ]
  },
  {
   "cell_type": "code",
   "execution_count": 2,
   "id": "880ac72d",
   "metadata": {},
   "outputs": [
    {
     "data": {
      "text/html": [
       "<div>\n",
       "<style scoped>\n",
       "    .dataframe tbody tr th:only-of-type {\n",
       "        vertical-align: middle;\n",
       "    }\n",
       "\n",
       "    .dataframe tbody tr th {\n",
       "        vertical-align: top;\n",
       "    }\n",
       "\n",
       "    .dataframe thead th {\n",
       "        text-align: right;\n",
       "    }\n",
       "</style>\n",
       "<table border=\"1\" class=\"dataframe\">\n",
       "  <thead>\n",
       "    <tr style=\"text-align: right;\">\n",
       "      <th></th>\n",
       "      <th>Patient_ID</th>\n",
       "      <th>Systemic Illness</th>\n",
       "      <th>Rectal Pain</th>\n",
       "      <th>Sore Throat</th>\n",
       "      <th>Penile Oedema</th>\n",
       "      <th>Oral Lesions</th>\n",
       "      <th>Solitary Lesion</th>\n",
       "      <th>Swollen Tonsils</th>\n",
       "      <th>HIV Infection</th>\n",
       "      <th>Sexually Transmitted Infection</th>\n",
       "      <th>MonkeyPox</th>\n",
       "    </tr>\n",
       "  </thead>\n",
       "  <tbody>\n",
       "    <tr>\n",
       "      <th>0</th>\n",
       "      <td>P0</td>\n",
       "      <td>None</td>\n",
       "      <td>False</td>\n",
       "      <td>True</td>\n",
       "      <td>True</td>\n",
       "      <td>True</td>\n",
       "      <td>False</td>\n",
       "      <td>True</td>\n",
       "      <td>False</td>\n",
       "      <td>False</td>\n",
       "      <td>Negative</td>\n",
       "    </tr>\n",
       "    <tr>\n",
       "      <th>1</th>\n",
       "      <td>P1</td>\n",
       "      <td>Fever</td>\n",
       "      <td>True</td>\n",
       "      <td>False</td>\n",
       "      <td>True</td>\n",
       "      <td>True</td>\n",
       "      <td>False</td>\n",
       "      <td>False</td>\n",
       "      <td>True</td>\n",
       "      <td>False</td>\n",
       "      <td>Positive</td>\n",
       "    </tr>\n",
       "    <tr>\n",
       "      <th>2</th>\n",
       "      <td>P2</td>\n",
       "      <td>Fever</td>\n",
       "      <td>False</td>\n",
       "      <td>True</td>\n",
       "      <td>True</td>\n",
       "      <td>False</td>\n",
       "      <td>False</td>\n",
       "      <td>False</td>\n",
       "      <td>True</td>\n",
       "      <td>False</td>\n",
       "      <td>Positive</td>\n",
       "    </tr>\n",
       "    <tr>\n",
       "      <th>3</th>\n",
       "      <td>P3</td>\n",
       "      <td>None</td>\n",
       "      <td>True</td>\n",
       "      <td>False</td>\n",
       "      <td>False</td>\n",
       "      <td>False</td>\n",
       "      <td>True</td>\n",
       "      <td>True</td>\n",
       "      <td>True</td>\n",
       "      <td>False</td>\n",
       "      <td>Positive</td>\n",
       "    </tr>\n",
       "    <tr>\n",
       "      <th>4</th>\n",
       "      <td>P4</td>\n",
       "      <td>Swollen Lymph Nodes</td>\n",
       "      <td>True</td>\n",
       "      <td>True</td>\n",
       "      <td>True</td>\n",
       "      <td>False</td>\n",
       "      <td>False</td>\n",
       "      <td>True</td>\n",
       "      <td>True</td>\n",
       "      <td>False</td>\n",
       "      <td>Positive</td>\n",
       "    </tr>\n",
       "  </tbody>\n",
       "</table>\n",
       "</div>"
      ],
      "text/plain": [
       "  Patient_ID     Systemic Illness  Rectal Pain  Sore Throat  Penile Oedema  \\\n",
       "0         P0                 None        False         True           True   \n",
       "1         P1                Fever         True        False           True   \n",
       "2         P2                Fever        False         True           True   \n",
       "3         P3                 None         True        False          False   \n",
       "4         P4  Swollen Lymph Nodes         True         True           True   \n",
       "\n",
       "   Oral Lesions  Solitary Lesion  Swollen Tonsils  HIV Infection  \\\n",
       "0          True            False             True          False   \n",
       "1          True            False            False           True   \n",
       "2         False            False            False           True   \n",
       "3         False             True             True           True   \n",
       "4         False            False             True           True   \n",
       "\n",
       "   Sexually Transmitted Infection MonkeyPox  \n",
       "0                           False  Negative  \n",
       "1                           False  Positive  \n",
       "2                           False  Positive  \n",
       "3                           False  Positive  \n",
       "4                           False  Positive  "
      ]
     },
     "execution_count": 2,
     "metadata": {},
     "output_type": "execute_result"
    }
   ],
   "source": [
    "df=pd.read_csv(\"DATA.csv\")\n",
    "df.head()"
   ]
  },
  {
   "cell_type": "code",
   "execution_count": 3,
   "id": "5d0583ae",
   "metadata": {},
   "outputs": [
    {
     "data": {
      "text/html": [
       "<div>\n",
       "<style scoped>\n",
       "    .dataframe tbody tr th:only-of-type {\n",
       "        vertical-align: middle;\n",
       "    }\n",
       "\n",
       "    .dataframe tbody tr th {\n",
       "        vertical-align: top;\n",
       "    }\n",
       "\n",
       "    .dataframe thead th {\n",
       "        text-align: right;\n",
       "    }\n",
       "</style>\n",
       "<table border=\"1\" class=\"dataframe\">\n",
       "  <thead>\n",
       "    <tr style=\"text-align: right;\">\n",
       "      <th></th>\n",
       "      <th>Patient_ID</th>\n",
       "      <th>Systemic Illness</th>\n",
       "      <th>Rectal Pain</th>\n",
       "      <th>Sore Throat</th>\n",
       "      <th>Penile Oedema</th>\n",
       "      <th>Oral Lesions</th>\n",
       "      <th>Solitary Lesion</th>\n",
       "      <th>Swollen Tonsils</th>\n",
       "      <th>HIV Infection</th>\n",
       "      <th>Sexually Transmitted Infection</th>\n",
       "      <th>MonkeyPox</th>\n",
       "    </tr>\n",
       "  </thead>\n",
       "  <tbody>\n",
       "    <tr>\n",
       "      <th>24998</th>\n",
       "      <td>P24998</td>\n",
       "      <td>Swollen Lymph Nodes</td>\n",
       "      <td>False</td>\n",
       "      <td>True</td>\n",
       "      <td>False</td>\n",
       "      <td>True</td>\n",
       "      <td>True</td>\n",
       "      <td>True</td>\n",
       "      <td>False</td>\n",
       "      <td>False</td>\n",
       "      <td>Negative</td>\n",
       "    </tr>\n",
       "    <tr>\n",
       "      <th>24999</th>\n",
       "      <td>P24999</td>\n",
       "      <td>Swollen Lymph Nodes</td>\n",
       "      <td>False</td>\n",
       "      <td>False</td>\n",
       "      <td>True</td>\n",
       "      <td>False</td>\n",
       "      <td>False</td>\n",
       "      <td>True</td>\n",
       "      <td>True</td>\n",
       "      <td>False</td>\n",
       "      <td>Positive</td>\n",
       "    </tr>\n",
       "  </tbody>\n",
       "</table>\n",
       "</div>"
      ],
      "text/plain": [
       "      Patient_ID     Systemic Illness  Rectal Pain  Sore Throat  \\\n",
       "24998     P24998  Swollen Lymph Nodes        False         True   \n",
       "24999     P24999  Swollen Lymph Nodes        False        False   \n",
       "\n",
       "       Penile Oedema  Oral Lesions  Solitary Lesion  Swollen Tonsils  \\\n",
       "24998          False          True             True             True   \n",
       "24999           True         False            False             True   \n",
       "\n",
       "       HIV Infection  Sexually Transmitted Infection MonkeyPox  \n",
       "24998          False                           False  Negative  \n",
       "24999           True                           False  Positive  "
      ]
     },
     "execution_count": 3,
     "metadata": {},
     "output_type": "execute_result"
    }
   ],
   "source": [
    "df.tail(2)"
   ]
  },
  {
   "cell_type": "markdown",
   "id": "ca3a165a",
   "metadata": {},
   "source": [
    " Feature Columns \n",
    "* Patient_ID- Unique ID for each patient\n",
    "* Systemic Illness -Illnesses affecting the entire body, rather than a single organ or body part eg fever,Swollen lymph Nodes\n",
    "* Rectal Pain - pain that occurs in or around the anus and rectum \n",
    "* Sore Throat - pain, scratchiness or irritation of the throat that often worsens when you swallow\n",
    "* Penile Oedema -A painless, non-tender swelling in the penile\n",
    "* Oral Lesions - mouth ulcers or sores\n",
    "* Solitary Lesion - A single round or oval growth that may appear in your lungs.\n",
    "* Swollen Tonsils - inflammation of the tonsils\n",
    "* HIV Infection - human immunodeficiency virus\n",
    "* Sexually Transmitted Infection -STI\n",
    "* MonkeyPox - (Target) Disease  "
   ]
  },
  {
   "cell_type": "code",
   "execution_count": 4,
   "id": "1480485b",
   "metadata": {},
   "outputs": [
    {
     "data": {
      "text/plain": [
       "(25000, 11)"
      ]
     },
     "execution_count": 4,
     "metadata": {},
     "output_type": "execute_result"
    }
   ],
   "source": [
    "df.shape"
   ]
  },
  {
   "cell_type": "code",
   "execution_count": 5,
   "id": "45af69d1",
   "metadata": {},
   "outputs": [
    {
     "name": "stdout",
     "output_type": "stream",
     "text": [
      "<class 'pandas.core.frame.DataFrame'>\n",
      "RangeIndex: 25000 entries, 0 to 24999\n",
      "Data columns (total 11 columns):\n",
      " #   Column                          Non-Null Count  Dtype \n",
      "---  ------                          --------------  ----- \n",
      " 0   Patient_ID                      25000 non-null  object\n",
      " 1   Systemic Illness                25000 non-null  object\n",
      " 2   Rectal Pain                     25000 non-null  bool  \n",
      " 3   Sore Throat                     25000 non-null  bool  \n",
      " 4   Penile Oedema                   25000 non-null  bool  \n",
      " 5   Oral Lesions                    25000 non-null  bool  \n",
      " 6   Solitary Lesion                 25000 non-null  bool  \n",
      " 7   Swollen Tonsils                 25000 non-null  bool  \n",
      " 8   HIV Infection                   25000 non-null  bool  \n",
      " 9   Sexually Transmitted Infection  25000 non-null  bool  \n",
      " 10  MonkeyPox                       25000 non-null  object\n",
      "dtypes: bool(8), object(3)\n",
      "memory usage: 781.4+ KB\n"
     ]
    }
   ],
   "source": [
    "df.info()"
   ]
  },
  {
   "cell_type": "code",
   "execution_count": 6,
   "id": "0e448599",
   "metadata": {},
   "outputs": [
    {
     "data": {
      "text/html": [
       "<div>\n",
       "<style scoped>\n",
       "    .dataframe tbody tr th:only-of-type {\n",
       "        vertical-align: middle;\n",
       "    }\n",
       "\n",
       "    .dataframe tbody tr th {\n",
       "        vertical-align: top;\n",
       "    }\n",
       "\n",
       "    .dataframe thead th {\n",
       "        text-align: right;\n",
       "    }\n",
       "</style>\n",
       "<table border=\"1\" class=\"dataframe\">\n",
       "  <thead>\n",
       "    <tr style=\"text-align: right;\">\n",
       "      <th></th>\n",
       "      <th>count</th>\n",
       "      <th>unique</th>\n",
       "      <th>top</th>\n",
       "      <th>freq</th>\n",
       "    </tr>\n",
       "  </thead>\n",
       "  <tbody>\n",
       "    <tr>\n",
       "      <th>Patient_ID</th>\n",
       "      <td>25000</td>\n",
       "      <td>25000</td>\n",
       "      <td>P0</td>\n",
       "      <td>1</td>\n",
       "    </tr>\n",
       "    <tr>\n",
       "      <th>Systemic Illness</th>\n",
       "      <td>25000</td>\n",
       "      <td>4</td>\n",
       "      <td>Fever</td>\n",
       "      <td>6382</td>\n",
       "    </tr>\n",
       "    <tr>\n",
       "      <th>Rectal Pain</th>\n",
       "      <td>25000</td>\n",
       "      <td>2</td>\n",
       "      <td>False</td>\n",
       "      <td>12655</td>\n",
       "    </tr>\n",
       "    <tr>\n",
       "      <th>Sore Throat</th>\n",
       "      <td>25000</td>\n",
       "      <td>2</td>\n",
       "      <td>True</td>\n",
       "      <td>12554</td>\n",
       "    </tr>\n",
       "    <tr>\n",
       "      <th>Penile Oedema</th>\n",
       "      <td>25000</td>\n",
       "      <td>2</td>\n",
       "      <td>True</td>\n",
       "      <td>12612</td>\n",
       "    </tr>\n",
       "    <tr>\n",
       "      <th>Oral Lesions</th>\n",
       "      <td>25000</td>\n",
       "      <td>2</td>\n",
       "      <td>False</td>\n",
       "      <td>12514</td>\n",
       "    </tr>\n",
       "    <tr>\n",
       "      <th>Solitary Lesion</th>\n",
       "      <td>25000</td>\n",
       "      <td>2</td>\n",
       "      <td>True</td>\n",
       "      <td>12527</td>\n",
       "    </tr>\n",
       "    <tr>\n",
       "      <th>Swollen Tonsils</th>\n",
       "      <td>25000</td>\n",
       "      <td>2</td>\n",
       "      <td>True</td>\n",
       "      <td>12533</td>\n",
       "    </tr>\n",
       "    <tr>\n",
       "      <th>HIV Infection</th>\n",
       "      <td>25000</td>\n",
       "      <td>2</td>\n",
       "      <td>True</td>\n",
       "      <td>12584</td>\n",
       "    </tr>\n",
       "    <tr>\n",
       "      <th>Sexually Transmitted Infection</th>\n",
       "      <td>25000</td>\n",
       "      <td>2</td>\n",
       "      <td>False</td>\n",
       "      <td>12554</td>\n",
       "    </tr>\n",
       "    <tr>\n",
       "      <th>MonkeyPox</th>\n",
       "      <td>25000</td>\n",
       "      <td>2</td>\n",
       "      <td>Positive</td>\n",
       "      <td>15909</td>\n",
       "    </tr>\n",
       "  </tbody>\n",
       "</table>\n",
       "</div>"
      ],
      "text/plain": [
       "                                count unique       top   freq\n",
       "Patient_ID                      25000  25000        P0      1\n",
       "Systemic Illness                25000      4     Fever   6382\n",
       "Rectal Pain                     25000      2     False  12655\n",
       "Sore Throat                     25000      2      True  12554\n",
       "Penile Oedema                   25000      2      True  12612\n",
       "Oral Lesions                    25000      2     False  12514\n",
       "Solitary Lesion                 25000      2      True  12527\n",
       "Swollen Tonsils                 25000      2      True  12533\n",
       "HIV Infection                   25000      2      True  12584\n",
       "Sexually Transmitted Infection  25000      2     False  12554\n",
       "MonkeyPox                       25000      2  Positive  15909"
      ]
     },
     "execution_count": 6,
     "metadata": {},
     "output_type": "execute_result"
    }
   ],
   "source": [
    "df.describe().T\n"
   ]
  },
  {
   "cell_type": "code",
   "execution_count": 7,
   "id": "1896f7f7",
   "metadata": {},
   "outputs": [
    {
     "data": {
      "text/plain": [
       "Fever                    6382\n",
       "Swollen Lymph Nodes      6252\n",
       "None                     6216\n",
       "Muscle Aches and Pain    6150\n",
       "Name: Systemic Illness, dtype: int64"
      ]
     },
     "execution_count": 7,
     "metadata": {},
     "output_type": "execute_result"
    }
   ],
   "source": [
    "df[\"Systemic Illness\"].value_counts()"
   ]
  },
  {
   "cell_type": "code",
   "execution_count": 8,
   "id": "39f8021a",
   "metadata": {},
   "outputs": [
    {
     "data": {
      "text/plain": [
       "0"
      ]
     },
     "execution_count": 8,
     "metadata": {},
     "output_type": "execute_result"
    }
   ],
   "source": [
    "df.duplicated().sum()"
   ]
  },
  {
   "cell_type": "code",
   "execution_count": 9,
   "id": "0a339008",
   "metadata": {},
   "outputs": [
    {
     "data": {
      "text/plain": [
       "Patient_ID                        P1P2P3P4P6P7P8P12P13P15P16P17P19P22P23P24P27P3...\n",
       "Systemic Illness                  FeverFeverNoneSwollen Lymph NodesFeverFeverMus...\n",
       "Rectal Pain                                                                    8702\n",
       "Sore Throat                                                                    8370\n",
       "Penile Oedema                                                                  8398\n",
       "Oral Lesions                                                                   8258\n",
       "Solitary Lesion                                                                8197\n",
       "Swollen Tonsils                                                                8055\n",
       "HIV Infection                                                                  8887\n",
       "Sexually Transmitted Infection                                                 8662\n",
       "MonkeyPox                         PositivePositivePositivePositivePositivePositi...\n",
       "dtype: object"
      ]
     },
     "execution_count": 9,
     "metadata": {},
     "output_type": "execute_result"
    }
   ],
   "source": [
    "df[df[\"MonkeyPox\"]==\"Positive\"].sum()"
   ]
  },
  {
   "cell_type": "code",
   "execution_count": 44,
   "id": "37d9d54a",
   "metadata": {},
   "outputs": [
    {
     "name": "stdout",
     "output_type": "stream",
     "text": [
      "Features in the DataFrame => ['Patient_ID' 'Systemic Illness' 'Rectal Pain' 'Sore Throat'\n",
      " 'Penile Oedema' 'Oral Lesions' 'Solitary Lesion' 'Swollen Tonsils'\n",
      " 'HIV Infection' 'Sexually Transmitted Infection' 'MonkeyPox']\n"
     ]
    },
    {
     "name": "stderr",
     "output_type": "stream",
     "text": [
      "C:\\Users\\phesh\\AppData\\Local\\Temp\\ipykernel_10652\\2167242588.py:1: FutureWarning: Index.ravel returning ndarray is deprecated; in a future version this will return a view on self.\n",
      "  print(\"Features in the DataFrame => {}\".format(df.columns.ravel()))\n"
     ]
    }
   ],
   "source": [
    "print(\"Features in the DataFrame => {}\".format(df.columns.ravel()))"
   ]
  },
  {
   "cell_type": "code",
   "execution_count": null,
   "id": "6924d6eb",
   "metadata": {},
   "outputs": [],
   "source": []
  },
  {
   "cell_type": "markdown",
   "id": "86d05fd3",
   "metadata": {},
   "source": [
    "### Data Understanding Summary\n",
    "* Systemic illness has some none values\n",
    "* Dataset consists of a CSV which have a record of 25,000 Patients \n",
    "* There are 12 columns \n",
    "* There is no missing values in our dataset*\n",
    "* Data has unique values\n",
    "* The label column is prediction column which has 2 categories: \n",
    "1. Positive - which means the Patient has the monkeypox disease \n",
    "2. Negative - which means the Patient does not have the monkeypox disease * \n",
    "\n",
    "     \n"
   ]
  },
  {
   "cell_type": "markdown",
   "id": "b41b610d",
   "metadata": {},
   "source": [
    "# DATA PREPARATION"
   ]
  },
  {
   "cell_type": "markdown",
   "id": "e6db5541",
   "metadata": {},
   "source": [
    "## DATA CLEANING:\n",
    "Checking for Validity, Accuracy, Completeness, Consistency and Uniformity of the Data."
   ]
  },
  {
   "cell_type": "markdown",
   "id": "ae9c454c",
   "metadata": {},
   "source": [
    "### cleaning summary:"
   ]
  },
  {
   "cell_type": "markdown",
   "id": "d483875a",
   "metadata": {},
   "source": [
    "# MODELLING:\n"
   ]
  },
  {
   "cell_type": "markdown",
   "id": "2c1d67b3",
   "metadata": {},
   "source": [
    "### !st model"
   ]
  },
  {
   "cell_type": "markdown",
   "id": "5e6ed8e4",
   "metadata": {},
   "source": [
    "### 2nd\n"
   ]
  },
  {
   "cell_type": "markdown",
   "id": "a1a9d6e2",
   "metadata": {},
   "source": [
    "### £rd"
   ]
  },
  {
   "cell_type": "markdown",
   "id": "eba229a9",
   "metadata": {},
   "source": [
    "### Interpreting model"
   ]
  },
  {
   "cell_type": "markdown",
   "id": "155cc3e3",
   "metadata": {},
   "source": [
    "## Limitations"
   ]
  },
  {
   "cell_type": "markdown",
   "id": "e7d284fd",
   "metadata": {},
   "source": [
    "## Recomendations:"
   ]
  }
 ],
 "metadata": {
  "kernelspec": {
   "display_name": "Python 3 (ipykernel)",
   "language": "python",
   "name": "python3"
  },
  "language_info": {
   "codemirror_mode": {
    "name": "ipython",
    "version": 3
   },
   "file_extension": ".py",
   "mimetype": "text/x-python",
   "name": "python",
   "nbconvert_exporter": "python",
   "pygments_lexer": "ipython3",
   "version": "3.9.12"
  }
 },
 "nbformat": 4,
 "nbformat_minor": 5
}
